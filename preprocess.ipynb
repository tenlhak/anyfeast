{
 "cells": [
  {
   "cell_type": "markdown",
   "metadata": {},
   "source": [
    "# Loading the data "
   ]
  },
  {
   "cell_type": "markdown",
   "metadata": {},
   "source": [
    "Recipe Dataset Preprocessing Pipeline\n",
    "\n",
    "This notebook preprocesses Recipe1M+ dataset to prepare it for analysis and modeling. \n",
    "The main preprocessing steps include:\n",
    "1. Extracting cooking steps from recipe directions\n",
    "2. Computing recipe complexity metrics\n",
    "3. Calculating estimated cooking times\n",
    "4. Cleaning and validating the data"
   ]
  },
  {
   "cell_type": "code",
   "execution_count": 30,
   "metadata": {},
   "outputs": [],
   "source": [
    "# Import necessary libraries for data analysis\n",
    "import pandas as pd\n",
    "import numpy as np\n",
    "import matplotlib.pyplot as plt\n",
    "import seaborn as sns\n",
    "import ast\n",
    "\n",
    "# Configure pandas display settings for better readability\n",
    "pd.set_option('display.max_columns', None)\n",
    "pd.set_option('display.max_rows', 50)\n",
    "\n",
    "# Load the recipe dataset\n",
    "df = pd.read_csv('dataset/full_dataset.csv')\n"
   ]
  },
  {
   "cell_type": "markdown",
   "metadata": {},
   "source": [
    "## Recipe Complexity Analysis\n",
    "Here we analyze the complexity of recipes by counting the number of preparation steps.\n",
    "This helps understand recipe difficulty and preparation time requirements.\n",
    "\n",
    "We extract steps by:\n",
    "1. Converting string representation of directions into Python lists\n",
    "2. Counting the number of steps in each recipe\n",
    "3. Analyzing the distribution of recipe complexity"
   ]
  },
  {
   "cell_type": "code",
   "execution_count": 3,
   "metadata": {},
   "outputs": [],
   "source": [
    "def count_recipe_steps(directions_string):\n",
    "    try:\n",
    "        # Convert the string representation of a list into an actual Python list\n",
    "        directions_list = ast.literal_eval(directions_string)\n",
    "        # Return the length of the list (number of steps)\n",
    "        return len(directions_list)\n",
    "    except (ValueError, SyntaxError) as e:\n",
    "        # If there's any error in conversion, return 0\n",
    "        print(f\"Error processing directions: {e}\")\n",
    "        return 0\n",
    "\n",
    "# Add the new column to your DataFrame\n",
    "df['number_of_steps'] = df['directions'].apply(count_recipe_steps)"
   ]
  },
  {
   "cell_type": "markdown",
   "metadata": {},
   "source": [
    "So it can be inferred from below the max xooking steps is 165 and min is 1. "
   ]
  },
  {
   "cell_type": "code",
   "execution_count": 4,
   "metadata": {},
   "outputs": [
    {
     "name": "stdout",
     "output_type": "stream",
     "text": [
      "\n",
      "Summary statistics for number of steps:\n",
      "164\n",
      "1\n"
     ]
    }
   ],
   "source": [
    "print(\"\\nSummary statistics for number of steps:\")\n",
    "print(df['number_of_steps'].max())\n",
    "print(df['number_of_steps'].min())"
   ]
  },
  {
   "cell_type": "markdown",
   "metadata": {},
   "source": [
    "Cooking steps 165 seems little be absured but lets see what is the recipe for that have a cooking step of 165."
   ]
  },
  {
   "cell_type": "code",
   "execution_count": 5,
   "metadata": {},
   "outputs": [
    {
     "name": "stdout",
     "output_type": "stream",
     "text": [
      "[\"In a small saucepan, combine the sugar, citric acid, and water and let stand for 30 minutes.\", \"Then bring the mixture to a boil over medium heat and cook for 2 to 3 minutes, or until the syrup turns pale yellow (the color of canola oil).\", \"If the citric acid turns dark yellow during boiling, swirl the pan or stir the contents to distribute.\", \"Remove from the heat and pour into a large measuring cup or heatproof bowl.\", \"Set the syrup aside for about 4 hours to cool completely.\", \"It will thicken and darken a bit as it cools.\", \"Then cover with plastic wrap and keep at room temperature.\", \"There should be a scant 1 cup syrup.\", \"(The syrup can be made up to 3 days in advance and kept at room temperature until using.)\", \"Position a rack in the middle of the oven and preheat to 250F.\", \"Line a baking sheet with parchment paper.\", \"Crack each salted egg and separate the yolk from the white, discarding the white and depositing the yolk on the prepared baking sheet.\", \"Discard yolks that are liquid, but keep yolks that hold their shape, even if they are partial ones; you can make a double-yolk cake.\", \"Once you have enough yolks (either 10 or 12, whole and partial ones combined), stop; the number of yolks needed depends on the size of your mold.\", \"Save any left over salted eggs for another use.\", \"Bake the egg yolks for 12 to 15 minutes, or until they have lost most of their sheen.\", \"You want the yolks to cook sufficiently to hold their shape in the cakes.\", \"If the surfaces crack, they have baked a little too long but will be okay in the cakes.\", \"Remove the yolks from the oven and let cool.\", \"When cool enough to handle, use your fingers or a paring knife to pry the yolks from the baking sheet.\", \"Trim each yolk so that it is as round as possible and place on a plate or in a plastic container.\", \"Cover and set aside.\", \"Put the pork fatback, Char Siu Pork, and sausage in a bowl and use a fork to combine well.\", \"Add the powdered sugar and toss to coat the pork and sausage thoroughly.\", \"Set aside for at least 30 minutes or up to 1 hour to marinate.\", \"The meat will look wet as it absorbs the sugar.\", \"Put the marinated meats and the sunflower seeds, walnuts, cashews, almonds, sesame seeds, crystallized ginger, candied citron, chicken, sugar, and corn syrup into a 12-inch nonstick skillet.\", \"Place over medium heat and saute gently for about 10 minutes, or until the pieces of fatback are clear and the sugar has melted.\", \"(If you taste some, you should detect just a bit of graininess from the sugar.)\", \"Turn off the heat and wait for the bubbling sugar to subside before stirring in the liquor and lime zest.\", \"Let cool for 30 minutes before continuing.\", \"To shape the filling into balls, line the baking sheet with fresh parchment paper and gather the following: the filling, plastic wrap, the baked yolks, and a scale.\", \"Tear off 4 pieces of plastic wrap each about 20 inches long, and fold each piece in half.\", \"Put a folded sheet on the scale.\", \"Scoop up 1/3 cup of the filling and deposit it on the plastic wrap.\", \"Make a depression in the middle, and put an egg yolk in the depression.\", \"Top with 1 to 2 tablespoons of the filling to achieve the total weight you want: 3 ounces for a 1/2-cup mold, or 3 1/2 ounces for a 2/3-cup mold.\", \"Gather up the edges of the plastic wrap and pick up the bundle in one hand.\", \"With the other hand, twist and squeeze the plastic to compress the filling into a ball the size of a tangerine (about 2 1/4 inches in diameter).\", \"Use some pressure to make sure the elements have stuck together.\", \"Undo the plastic and roll the filling onto the prepared baking sheet.\", \"Th e ball should hold together as it sits.\", \"If it falls apart, squeeze it back into shape.\", \"Repeat with the remaining filling, using new pieces of plastic wrap as the old ones get too tacky to release the balls easily once they are shaped.\", \"(If lots of clear, thickish liquid remains toward the end, dont try to use it all, or the filling will be too wet.)\", \"Set the balls of filling aside.\", \"Add the 1/4 cup oil, 3 tablespoons caramel sauce, and potassium bicarbonate solution to the sugar syrup.\", \"Use a rubber spatula to stir for about 1 minute, or until the mixture has increased in volume, is opaque, and is a rich caramel color.\", \"If necessary, add caramel sauce, 1/4 teaspoon at a time, to darken.\", \"Put the 2 3/4 cups flour into a large bowl and make a well in the center.\", \"Pour the sugar syrup mixture into the well and use the spatula to stir until you have a soft dough with the texture of marzipan.\", \"Turn the dough out onto a lightly floured work surface and knead in about 2 tablespoons flour to create a smooth, very malleable, slightly tacky dough.\", \"It may spread a bit when left to sit.\", \"Shape the dough into a log 2 inches in diameter.\", \"For 1/2-cup molds, cut the log at scant 1-inch intervals to yield 2-ounce pieces; for 2/3-cup molds, cut at 1-inch intervals to yield 2 1/2-ounce pieces.\", \"Weigh each piece for accuracy, pinching off or adding on dough as necessary.\", \"Save extra dough for emergency patching up.\", \"Cover the dough pieces loosely with plastic wrap and set aside.\", \"(The dough may be prepared 1 hour in advance of shaping the cakes.)\", \"Set up a station that allows you to whack the wooden mold firmly against a hard surface.\", \"Kitchen counters are not good.\", \"I typically put a piece of plywood and a section of a two-by-four on a dining room chair.\", \"Both pieces of wood should roughly span the width of the chair.\", \"The plywood does not have to match the depth of the chair.\", \"Position the wood pieces at the edge of the chair.\", \"The thin, wide plywood acts as a stabilizer, while the thicker two-by-four takes the pressure.\", \"(If you want to protect the floor, fold a towel or blanket to create a double or triple thickness and put it under the chairs feet.)\", \"When you are satisfied with the setup, take the mold by the handle and practice the whacking sequence outlined in step 17.\", \"Strike with confidence and strength to get a loud whack.\", \"If your arrangement seems sufficiently sturdy, continue to the next step.\", \"Set up a station for shaping the moon cakes near the whacking station, outfitting it with the following: a large work surface (such as a cutting board), flour for dusting, a small bowl of oil, a pastry brush, a rolling pin (preferably an Asian-style pin, which is essentially a 1-inch wood dowel), the dough pieces, the balls of filling, and the mold(s).\", \"Line 2 baking sheets with parchment paper, oil the paper, and place them with the other tools.\", \"To shape each moon cake, first oil and flour the mold.\", \"Use a pastry brush dipped in oil to coat the carved surfaces lightly.\", \"Sprinkle in some flour and tap the mold against your hand to spread the flour evenly over the entire interior surface.\", \"Invert and tap the mold against the sink to remove excess flour.\", \"Set the prepared mold by your work area.\", \"Lightly flour the work surface and place a piece of dough on top of it.\", \"With a lightly floured hand, smack the dough to flatten it to a 1/4-inch-thick disk.\", \"Flip it over.\", \"Quickly dip 2 fingers into the oil and very lightly oil the rolling pin; this tiny bit of oil makes the dough easier to manipulate.\", \"With short, fast strokes, roll the dough away from its center, leaving a plump, roughly 1-inch-wide belly in the middle.\", \"With each roll, pick up the dough and give it a quarter turn to prevent sticking.\", \"When it is about 4 inches in diameter, stop turning the dough and make the final passes to create a circle 5 to 5 1/2 inches in diameter and a generous 1/8 inch thick at the edge.\", \"This Chinese method of rolling dough ensures an even thickness all around the cake.\", \"(If the dough sticks or breaks, scrape it up with a plastic dough scraper or knife, knead it back into a ball, and start over.\", \"It is a forgiving dough.)\", \"Pick up the dough circle and put it in one hand.\", \"Place a ball of filling in the center of the circle, and then invert the entire thing into the other hand; the dough will naturally droop over the filling.\", \"(The dough side that now faces you will be the pretty top of the cake.)\", \"Pass the ball back to the other hand so that the bottom of the cake now faces upward.\", \"Cupping the cake in one hand, use the fingers of your other hand to seal the dough, completely encasing the filling.\", \"Gently press, nudge, and mold the dough as needed.\", \"Once sealed, cup the ball in both hands and gently roll and pat it smooth.\", \"The pastry will take on a slight sheen.\", \"Place the ball, top side down, into the mold.\", \"Using the fleshy part of your hand between the base of your thumb and wrist, press the ball into the mold.\", \"Try to apply even pressure.\", \"Once the cake has filled the mold, go around the edge to press the pastry inward gently and away from the side walls of the mold.\", \"Th is helps the cake to release.\", \"To loosen the cake from the mold, step over to your whacking station.\", \"Take the handle of the mold and firmly whack it against the wood in this precise order: The first 4 whacks are applied to each side of the mold (left , top, right, and bottom).\", \"For the dramatic fifth and final whack, turn the mold so that the cake faces down and place your hand underneath to catch the cake as it falls out.\", \"Place the cake on the baking sheet.\", \"Repeat with the remaining dough and filling, spacing the cakes about 2 inches apart on the baking sheets.\", \"As you work, take note of the following: If the cake threatens to jump out of the mold while you are whacking, immediately reduce the amount of pressure and continue through the entire sequence.\", \"If you have to set the ball of filling and dough down at any time, place it on a floured surface to prevent sticking.\", \"Because the carved impressions dull as oil and flour accumulate in the mold, occasionally pause between shaping the cakes to clean out the mold.\", \"(Use 2 molds and you will clean less often.)\", \"For cleaning, use a toothpick, skewer, or the tip of a paring knife to dislodge bits.\", \"A hard spray of water from the sink faucet also helps.\", \"After spraying, dry the mold with paper towels before oiling and flouring it for the next cake.\", \"Position a rack in the lower third of the oven and preheat to 250F.\", \"Meanwhile, make the glaze by combining the egg yolks and caramel sauce in a small bowl and mixing with a fork until well blended.\", \"Pass the glaze through a fine-mesh sieve into another small bowl.\", \"Discard the solids and set the bowl aside.\", \"Fill the spray bottle halfway with water and set aside.\", \"Use a toothpick to poke 3 or 4 air vents into the top of each cake, about 1/4 inch deep.\", \"(This helps the cakes bake more evenly.)\", \"Flat toothpicks make less conspicuous holes than round ones.\", \"Baking moon cakes is a three-step process, and you must bake only 1 sheet at a time.\", \"Loosely cover the unbaked cakes on 1 sheet with parchment paper.\", \"Slip the other sheet into the oven and bake for 22 to 25 minutes, or until the cakes look dull and a little puffed.\", \"Remove from the oven, and immediately spray the cakes with water to soften the dough.\", \"Wait for about 2 minutes, or until the water is absorbed, and then use your fingers to push and straighten up the cakes.\", \"(They are not that hot.)\", \"This cosmetic surgery helps to produce prettier cakes.\", \"Ideally, the sides should be straight, not flared.\", \"The cakes should retain most of their out-of-the-mold appearance but be slightly puffed.\", \"Once you are satisfied with how the cakes look, brush the tops with the glaze and return the cakes to the oven.\", \"Bake this second time for 10 minutes.\", \"Remove the cakes from the oven, brush again with the glaze, and return to the oven.\", \"Bake for a final 10 minutes, or until the tops are richly colored and shiny.\", \"Remove from the oven and put on a rack to cool.\", \"When the cakes are cool enough to handle, after about 30 minutes, you may straighten any lopsided, unsightly cakes.\", \"While the first baking sheet cools, bake the second sheet.\", \"As the moon cakes cool, they darken from the caramel sauce in the dough and glaze.\", \"When they are completely cool, store them in an airtight plastic container.\", \"Before eating them, allow them to age for 1 to 2 days to soften the pastry and develop the flavors.\", \"They will keep at room temperature for up to 5 days and in the refrigerator for up to 2 weeks.\", \"Enjoy them at room temperature, cut into small wedges.\", \"To freeze, wrap each cake in plastic wrap and place the cakes on a baking sheet.\", \"Put the baking sheet in the freezer for several hours, or until the cakes are hard.\", \"Transfer the cakes to zip-top plastic bags and freeze for up to 6 months.\", \"To thaw, remove the plastic wrap from the still-frozen cakes, put the cakes in an airtight plastic container, and let stand at room temperature for 1 to 2 days before cutting and eating.\", \"Wooden moon cake molds are typically sold at Chinese and Vietnamese cookware stores, especially as the holiday nears.\", \"Or, check the Resources section (page 335) for an online vendor.\", \"Look for molds with holes pierced on the sides; they provide handy drainage and air vents.\", \"Moon cake molds hold either 1/2 cup or 2/3 cup and are sometimes marked 150 or 200 grams, respectively.\", \"If you are unsure, fill the mold with water to determine the size.\", \"For your first time making moon cakes, use the larger mold (about 2 3/4 inches in diameter and 1 1/4 inches deep), which is easier to work with.\", \"Molds from Vietnam are for making either baked moon cakes (this recipe) or for chewy unbaked cakes called banh deo (also eaten on this holiday).\", \"In general, molds for the former are carved with small, delicate scalloped edges, while molds for the latter have much bigger, robust edges.\", \"Although I have made this recipe with both kinds of molds, the cakes are prettiest when made with the proper mold.\", \"Here are some tips for locating ingredients:\", \"Citric acid, sold in crystallized form as sour salt (also called citric salt), is usually stocked in the kosher-food section of mainstream supermarkets.\", \"Potassium bicarbonate solution (lye water) is sold at Chinese markets in glass bottles shelved near the vinegars.\", \"Sorghum and rose petal liquor (mei kwei lu chiu) is available at Chinese markets, too.\", \"Look for the Chinese name on the bottles or boxes.\", \"It is also great for sipping.\", \"Health-food stores with a bulk section are great places to buy small quantities of nuts.\", \"Candied citron and fruitcake mix are seasonal ingredients that may be stored for several years.\", \"Buy a small supply in November, when they are sold for holiday baking.\", \"See page 169 for tips on finding pork fatback.\"]\n"
     ]
    }
   ],
   "source": [
    "for direction in df[df['number_of_steps'] == 164]['directions']:\n",
    "    print(direction)"
   ]
  },
  {
   "cell_type": "markdown",
   "metadata": {},
   "source": [
    "## Cooking Time Estimation\n",
    "This section extracts and standardizes cooking times from recipe directions.\n",
    "\n",
    "The process:\n",
    "1. Uses regex to find time mentions (e.g. \"10 minutes\", \"2 hours\")\n",
    "2. Converts all times to minutes for consistency\n",
    "3. Sums up multiple time mentions within each recipe\n",
    "4. Handles edge cases and data quality issues"
   ]
  },
  {
   "cell_type": "code",
   "execution_count": 6,
   "metadata": {},
   "outputs": [],
   "source": [
    "import re\n",
    "def extract_cooking_times(directions_string):\n",
    "    \"\"\"\n",
    "    Extract and sum up all time durations mentioned in recipe directions.\n",
    "    Returns total estimated cooking time in minutes.\n",
    "    \"\"\"\n",
    "    try:\n",
    "        directions_list = ast.literal_eval(directions_string)\n",
    "    except:\n",
    "        return 0\n",
    "    \n",
    "    total_minutes = 0\n",
    "    \n",
    "    # Dictionary for converting time units to minutes\n",
    "    time_conversions = {\n",
    "        'hour': 60,\n",
    "        'hours': 60,\n",
    "        'hr': 60,\n",
    "        'hrs': 60,\n",
    "        'minute': 1,\n",
    "        'minutes': 1,\n",
    "        'min': 1,\n",
    "        'mins': 1\n",
    "    }\n",
    "    \n",
    "    # Improved pattern to capture both number and unit together\n",
    "    time_pattern = r'(\\d+)\\s*(hour|hours|hr|hrs|minute|minutes|min|mins)'\n",
    "    \n",
    "    for step in directions_list:\n",
    "        # Search for time mentions in each step\n",
    "        matches = re.finditer(time_pattern, step.lower())\n",
    "        \n",
    "        for match in matches:\n",
    "            try:\n",
    "                amount = int(match.group(1))  # The number\n",
    "                unit = match.group(2)         # The time unit\n",
    "                total_minutes += amount * time_conversions.get(unit, 0)\n",
    "            except (ValueError, IndexError) as e:\n",
    "                continue  # Skip any problematic matches\n",
    "    \n",
    "    return total_minutes\n",
    "df['estimated_cooking_time'] = df['directions'].apply(extract_cooking_times)"
   ]
  },
  {
   "cell_type": "code",
   "execution_count": 7,
   "metadata": {},
   "outputs": [
    {
     "data": {
      "text/plain": [
       "np.int64(210060)"
      ]
     },
     "execution_count": 7,
     "metadata": {},
     "output_type": "execute_result"
    }
   ],
   "source": [
    "df['estimated_cooking_time'].max()"
   ]
  },
  {
   "cell_type": "markdown",
   "metadata": {},
   "source": [
    "So the max cooking time is 210060 which is an outlier and its not possible. Lets have a closer look at the direction of that recipe. "
   ]
  },
  {
   "cell_type": "code",
   "execution_count": 8,
   "metadata": {},
   "outputs": [
    {
     "name": "stdout",
     "output_type": "stream",
     "text": [
      "[\"in a dutch oven brown ground beef with onions and garlic;drain.\", \"add remaining items except cheese mix well cover and bake 3501 hour\", \"sprinkle with cheese just before serving.\", \"Freeze leftovers.\"]\n"
     ]
    }
   ],
   "source": [
    "for direction in df[df['estimated_cooking_time'] == 210060]['directions']:\n",
    "    print(direction)"
   ]
  },
  {
   "cell_type": "markdown",
   "metadata": {},
   "source": [
    "The error in cooking time has been generated by the fact that in the direction, they have ommitted a space between 350 and 1, therofre our function thinks that its 3501 hours, lets fix that by hardcoing the correct direction. "
   ]
  },
  {
   "cell_type": "code",
   "execution_count": 9,
   "metadata": {},
   "outputs": [],
   "source": [
    "recipe_index = df[df['estimated_cooking_time'] == 210060].index[0]\n",
    "\n",
    "# Update the cell explicitly\n",
    "df.at[recipe_index, 'directions'] = [\n",
    "    \"in a dutch oven brown ground beef with onions and garlic;drain.\",\n",
    "    \"add remaining items except cheese mix well cover and bake 350 1 hour\",\n",
    "    \"sprinkle with cheese just before serving.\",\n",
    "    \"Freeze leftovers.\"\n",
    "]"
   ]
  },
  {
   "cell_type": "markdown",
   "metadata": {},
   "source": [
    "Generating a bar plot to understand tge distribution of the estimated cooking time. "
   ]
  },
  {
   "cell_type": "code",
   "execution_count": 10,
   "metadata": {},
   "outputs": [
    {
     "data": {
      "image/png": "[encoded data removed]",
      "text/plain": [
       "<Figure size 1200x600 with 1 Axes>"
      ]
     },
     "metadata": {},
     "output_type": "display_data"
    }
   ],
   "source": [
    "if 'estimated_cooking_time' in df.columns:\n",
    "    # Create a barplot for the distribution of 'estimated_cooking_time'\n",
    "    cooking_time_distribution = df['estimated_cooking_time'].value_counts().sort_index()\n",
    "\n",
    "    plt.figure(figsize=(12, 6))\n",
    "    plt.bar(cooking_time_distribution.index, cooking_time_distribution.values, width=500, align='center')\n",
    "    plt.title('Distribution of Estimated Cooking Time', fontsize=16)\n",
    "    plt.xlabel('Estimated Cooking Time (in seconds)', fontsize=14)\n",
    "    plt.ylabel('Frequency', fontsize=14)\n",
    "    plt.xticks(rotation=45)\n",
    "    plt.tight_layout()\n",
    "    plt.show()\n",
    "else:\n",
    "    print(\"The column 'estimated_cooking_time' does not exist in the DataFrame.\")"
   ]
  },
  {
   "cell_type": "markdown",
   "metadata": {},
   "source": [
    "Seems like there are not of other cases like the one that we dealth with. Its not humanly possible to hard code all the directions in proper format. We can use an LLM for makin the correction, in the future works. "
   ]
  },
  {
   "cell_type": "markdown",
   "metadata": {},
   "source": [
    "Lets see all the unique values in the estimated cooking time. "
   ]
  },
  {
   "cell_type": "code",
   "execution_count": 14,
   "metadata": {},
   "outputs": [
    {
     "data": {
      "text/html": [
       "<div>\n",
       "<style scoped>\n",
       "    .dataframe tbody tr th:only-of-type {\n",
       "        vertical-align: middle;\n",
       "    }\n",
       "\n",
       "    .dataframe tbody tr th {\n",
       "        vertical-align: top;\n",
       "    }\n",
       "\n",
       "    .dataframe thead th {\n",
       "        text-align: right;\n",
       "    }\n",
       "</style>\n",
       "<table border=\"1\" class=\"dataframe\">\n",
       "  <thead>\n",
       "    <tr style=\"text-align: right;\">\n",
       "      <th></th>\n",
       "      <th>Estimated Cooking Time</th>\n",
       "      <th>Frequency</th>\n",
       "    </tr>\n",
       "  </thead>\n",
       "  <tbody>\n",
       "    <tr>\n",
       "      <th>0</th>\n",
       "      <td>0</td>\n",
       "      <td>620385</td>\n",
       "    </tr>\n",
       "    <tr>\n",
       "      <th>1</th>\n",
       "      <td>1</td>\n",
       "      <td>14315</td>\n",
       "    </tr>\n",
       "    <tr>\n",
       "      <th>2</th>\n",
       "      <td>2</td>\n",
       "      <td>23811</td>\n",
       "    </tr>\n",
       "    <tr>\n",
       "      <th>3</th>\n",
       "      <td>3</td>\n",
       "      <td>23164</td>\n",
       "    </tr>\n",
       "    <tr>\n",
       "      <th>4</th>\n",
       "      <td>4</td>\n",
       "      <td>17064</td>\n",
       "    </tr>\n",
       "    <tr>\n",
       "      <th>...</th>\n",
       "      <td>...</td>\n",
       "      <td>...</td>\n",
       "    </tr>\n",
       "    <tr>\n",
       "      <th>3079</th>\n",
       "      <td>80799</td>\n",
       "      <td>1</td>\n",
       "    </tr>\n",
       "    <tr>\n",
       "      <th>3080</th>\n",
       "      <td>146160</td>\n",
       "      <td>1</td>\n",
       "    </tr>\n",
       "    <tr>\n",
       "      <th>3081</th>\n",
       "      <td>148380</td>\n",
       "      <td>1</td>\n",
       "    </tr>\n",
       "    <tr>\n",
       "      <th>3082</th>\n",
       "      <td>150410</td>\n",
       "      <td>1</td>\n",
       "    </tr>\n",
       "    <tr>\n",
       "      <th>3083</th>\n",
       "      <td>210060</td>\n",
       "      <td>1</td>\n",
       "    </tr>\n",
       "  </tbody>\n",
       "</table>\n",
       "<p>3084 rows × 2 columns</p>\n",
       "</div>"
      ],
      "text/plain": [
       "      Estimated Cooking Time  Frequency\n",
       "0                          0     620385\n",
       "1                          1      14315\n",
       "2                          2      23811\n",
       "3                          3      23164\n",
       "4                          4      17064\n",
       "...                      ...        ...\n",
       "3079                   80799          1\n",
       "3080                  146160          1\n",
       "3081                  148380          1\n",
       "3082                  150410          1\n",
       "3083                  210060          1\n",
       "\n",
       "[3084 rows x 2 columns]"
      ]
     },
     "execution_count": 14,
     "metadata": {},
     "output_type": "execute_result"
    }
   ],
   "source": [
    "\n",
    "unique_values = df['estimated_cooking_time'].value_counts().sort_index()\n",
    "\n",
    "# Create a DataFrame to organize the output\n",
    "unique_values_df = unique_values.reset_index()\n",
    "unique_values_df.columns = ['Estimated Cooking Time', 'Frequency']\n",
    "unique_values_df"
   ]
  },
  {
   "cell_type": "code",
   "execution_count": 18,
   "metadata": {},
   "outputs": [
    {
     "data": {
      "text/plain": [
       "(2231142, 9)"
      ]
     },
     "execution_count": 18,
     "metadata": {},
     "output_type": "execute_result"
    }
   ],
   "source": [
    "df.shape"
   ]
  },
  {
   "cell_type": "code",
   "execution_count": 29,
   "metadata": {},
   "outputs": [
    {
     "name": "stdout",
     "output_type": "stream",
     "text": [
      "There are 95790 recipes that have cooking time more than 300mins, which means 4.293% of the overall recipe.\n"
     ]
    }
   ],
   "source": [
    "a = sum(df['estimated_cooking_time'] > 300)\n",
    "print(f'There are {a} recipes that have cooking time more than 300mins, which means {round((a/df.shape[0])*100,3)}% of the overall recipe.')"
   ]
  },
  {
   "cell_type": "markdown",
   "metadata": {},
   "source": [
    "Its seems likie there are more error than we anitiicpated by looking at the frequcies. Lets get rid of all the rows that have cooking time more than 300 mins, since it makes less than 5% of the data. "
   ]
  },
  {
   "cell_type": "code",
   "execution_count": 20,
   "metadata": {},
   "outputs": [],
   "source": [
    "directions = df.loc[df['estimated_cooking_time'] > 300, 'directions']\n",
    "\n",
    "# Display the 'directions' column for the selected rows\n",
    "#print(directions)"
   ]
  },
  {
   "cell_type": "markdown",
   "metadata": {},
   "source": [
    "Storing the cleaned df as a pickled obj to be used in the recommendation system. "
   ]
  },
  {
   "cell_type": "code",
   "execution_count": null,
   "metadata": {},
   "outputs": [],
   "source": [
    "import pickle\n",
    "with open('cleaned_data.pkl', 'wb') as file:\n",
    "    pickle.dump(df, file)"
   ]
  }
 ],
 "metadata": {
  "kernelspec": {
   "display_name": "anyfeast",
   "language": "python",
   "name": "python3"
  },
  "language_info": {
   "codemirror_mode": {
    "name": "ipython",
    "version": 3
   },
   "file_extension": ".py",
   "mimetype": "text/x-python",
   "name": "python",
   "nbconvert_exporter": "python",
   "pygments_lexer": "ipython3",
   "version": "3.12.3"
  },
  "orig_nbformat": 4
 },
 "nbformat": 4,
 "nbformat_minor": 2
}
